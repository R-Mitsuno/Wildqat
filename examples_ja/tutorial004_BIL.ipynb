{
  "nbformat": 4,
  "nbformat_minor": 0,
  "metadata": {
    "colab": {
      "name": "tutorial004_BIL.ipynb",
      "version": "0.3.2",
      "provenance": []
    },
    "kernelspec": {
      "name": "python3",
      "display_name": "Python 3"
    }
  },
  "cells": [
    {
      "metadata": {
        "id": "37f1qQvLpWzM",
        "colab_type": "text"
      },
      "cell_type": "markdown",
      "source": [
        "#整数計画問題 / Binary Integer Linear Programming\n",
        "バイナリ値からなるベクトルxについてSx=bという制約条件を満たす中で、c⋅xが最大となるxを求める。\n",
        "コスト関数は単純に上記の制約条件と最大にするコスト関数を繋げて、\n",
        "\n",
        "<img src=\"./img/004_0.png\">\n",
        "\n"
      ]
    },
    {
      "metadata": {
        "id": "hAKGp9-RpyJF",
        "colab_type": "text"
      },
      "cell_type": "markdown",
      "source": [
        "##例題\n",
        "下記のような例題を用意します。\n",
        "\n",
        "<img src=\"./img/004_1.png\">\n"
      ]
    },
    {
      "metadata": {
        "id": "Uy6U_6rIqLHH",
        "colab_type": "text"
      },
      "cell_type": "markdown",
      "source": [
        "##第1項を計算する\n",
        "第1項目はSx=bという条件を満たす組み合わせを指定します。\n",
        "まずはWildqatの準備から入り、指定の式をb^2 - 2*b*A + A^2の形にします。定数は無視して、-2*b*A+A^2をそれぞれ計算して足し合わせます。"
      ]
    },
    {
      "metadata": {
        "id": "vvIRMcqho_Ld",
        "colab_type": "code",
        "colab": {}
      },
      "cell_type": "code",
      "source": [
        "!pip install wildqat"
      ],
      "execution_count": 0,
      "outputs": []
    },
    {
      "metadata": {
        "id": "EWvg3V3vqlBC",
        "colab_type": "code",
        "colab": {}
      },
      "cell_type": "code",
      "source": [
        "import wildqat as wq\n",
        "import numpy as np\n",
        "a = wq.opt()"
      ],
      "execution_count": 0,
      "outputs": []
    },
    {
      "metadata": {
        "id": "ubiKxrvuqoCi",
        "colab_type": "code",
        "colab": {
          "base_uri": "https://localhost:8080/",
          "height": 119
        },
        "outputId": "0cb4dd83-07f8-4db4-eb59-8295ad92408e"
      },
      "cell_type": "code",
      "source": [
        "A1 = [3,2,1]\n",
        "A2 = [5,2,3]\n",
        "\n",
        "matrix1_1 = -2*3*np.diag(A1) + wq.sqr(A1)\n",
        "print(matrix1_1)\n",
        "\n",
        "matrix1_2 = -2*5*np.diag(A2) + wq.sqr(A2)\n",
        "print(matrix1_2)"
      ],
      "execution_count": 6,
      "outputs": [
        {
          "output_type": "stream",
          "text": [
            "[[-9 12  6]\n",
            " [ 0 -8  4]\n",
            " [ 0  0 -5]]\n",
            "[[-25  20  30]\n",
            " [  0 -16  12]\n",
            " [  0   0 -21]]\n"
          ],
          "name": "stdout"
        }
      ]
    },
    {
      "metadata": {
        "id": "hOmDlyDNrBmn",
        "colab_type": "code",
        "colab": {
          "base_uri": "https://localhost:8080/",
          "height": 68
        },
        "outputId": "8000fbb9-9dfc-43f2-b0ea-6ecea465ebd8"
      },
      "cell_type": "code",
      "source": [
        "matrix1 = matrix1_1 + matrix1_2\n",
        "print(matrix1)"
      ],
      "execution_count": 7,
      "outputs": [
        {
          "output_type": "stream",
          "text": [
            "[[-34  32  36]\n",
            " [  0 -24  16]\n",
            " [  0   0 -26]]\n"
          ],
          "name": "stdout"
        }
      ]
    },
    {
      "metadata": {
        "id": "P01zzQ6MrtEO",
        "colab_type": "text"
      },
      "cell_type": "markdown",
      "source": [
        "ここで一旦確認をしてみます。上記の条件を満たすのは、"
      ]
    },
    {
      "metadata": {
        "id": "CiCLoHalrStB",
        "colab_type": "code",
        "colab": {
          "base_uri": "https://localhost:8080/",
          "height": 51
        },
        "outputId": "20cb253a-0de6-416c-9d9d-65eb56bdb59d"
      },
      "cell_type": "code",
      "source": [
        "a.qubo = matrix1\n",
        "a.sa()"
      ],
      "execution_count": 11,
      "outputs": [
        {
          "output_type": "stream",
          "text": [
            "1.5210204124450684\n"
          ],
          "name": "stdout"
        },
        {
          "output_type": "execute_result",
          "data": {
            "text/plain": [
              "[0, 1, 1]"
            ]
          },
          "metadata": {
            "tags": []
          },
          "execution_count": 11
        }
      ]
    },
    {
      "metadata": {
        "id": "PBn6sGCmrq6k",
        "colab_type": "code",
        "colab": {
          "base_uri": "https://localhost:8080/",
          "height": 51
        },
        "outputId": "20812a04-ab85-44fe-eace-84468d803ee6"
      },
      "cell_type": "code",
      "source": [
        "a.sa()"
      ],
      "execution_count": 12,
      "outputs": [
        {
          "output_type": "stream",
          "text": [
            "1.515028715133667\n"
          ],
          "name": "stdout"
        },
        {
          "output_type": "execute_result",
          "data": {
            "text/plain": [
              "[1, 0, 0]"
            ]
          },
          "metadata": {
            "tags": []
          },
          "execution_count": 12
        }
      ]
    },
    {
      "metadata": {
        "id": "mNloFgUrrso7",
        "colab_type": "text"
      },
      "cell_type": "markdown",
      "source": [
        "上記のように[0,1,1]や[1,0,0]がでてきました。"
      ]
    },
    {
      "metadata": {
        "id": "hSCF36qsrRG7",
        "colab_type": "text"
      },
      "cell_type": "markdown",
      "source": [
        "##次に第2項を計算する\n",
        "その次にもう１つのコスト関数を計算します。こちらは、"
      ]
    },
    {
      "metadata": {
        "id": "1X4BrX2srO5S",
        "colab_type": "code",
        "colab": {
          "base_uri": "https://localhost:8080/",
          "height": 68
        },
        "outputId": "c8ede63e-ecc8-4503-cffd-19d23ad60dfc"
      },
      "cell_type": "code",
      "source": [
        "matrix2 = np.diag([1,2,1])\n",
        "print(matrix2)"
      ],
      "execution_count": 15,
      "outputs": [
        {
          "output_type": "stream",
          "text": [
            "[[1 0 0]\n",
            " [0 2 0]\n",
            " [0 0 1]]\n"
          ],
          "name": "stdout"
        }
      ]
    },
    {
      "metadata": {
        "id": "Zkbs5pjFsPHL",
        "colab_type": "text"
      },
      "cell_type": "markdown",
      "source": [
        "#QUBOをつなげて計算する\n",
        "これらをつなげて計算してみます。"
      ]
    },
    {
      "metadata": {
        "id": "3tSYIYUIsT2i",
        "colab_type": "code",
        "colab": {
          "base_uri": "https://localhost:8080/",
          "height": 51
        },
        "outputId": "1601557c-9159-4941-f207-f517765fb05d"
      },
      "cell_type": "code",
      "source": [
        "B = 1\n",
        "a.qubo = matrix1 - B * matrix2\n",
        "a.sa()"
      ],
      "execution_count": 24,
      "outputs": [
        {
          "output_type": "stream",
          "text": [
            "1.494323968887329\n"
          ],
          "name": "stdout"
        },
        {
          "output_type": "execute_result",
          "data": {
            "text/plain": [
              "[0, 1, 1]"
            ]
          },
          "metadata": {
            "tags": []
          },
          "execution_count": 24
        }
      ]
    },
    {
      "metadata": {
        "id": "561L2mKAsynt",
        "colab_type": "text"
      },
      "cell_type": "markdown",
      "source": [
        "答えは、[0,1,1]となりました。\n",
        "念のためコスト関数の推移も見てみます。"
      ]
    },
    {
      "metadata": {
        "id": "BrqXVTEzsKBZ",
        "colab_type": "code",
        "colab": {
          "base_uri": "https://localhost:8080/",
          "height": 347
        },
        "outputId": "7fa49cd9-56f3-47a7-8f8a-865afba16a0b"
      },
      "cell_type": "code",
      "source": [
        "import matplotlib.pyplot as plt\n",
        "plt.plot(a.E)\n",
        "plt.show()"
      ],
      "execution_count": 26,
      "outputs": [
        {
          "output_type": "display_data",
          "data": {
            "image/png": "[encoded data removed]",
            "text/plain": [
              "<matplotlib.figure.Figure at 0x7fe5dd7f6390>"
            ]
          },
          "metadata": {
            "tags": []
          }
        }
      ]
    }
  ]
}