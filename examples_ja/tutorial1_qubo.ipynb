{
  "nbformat": 4,
  "nbformat_minor": 0,
  "metadata": {
    "colab": {
      "name": "tutorial1_qubo.ipynb",
      "version": "0.3.2",
      "provenance": []
    },
    "kernelspec": {
      "name": "python3",
      "display_name": "Python 3"
    }
  },
  "cells": [
    {
      "metadata": {
        "id": "S0D6seG9-ZGj",
        "colab_type": "text"
      },
      "cell_type": "markdown",
      "source": [
        "#QUBOにおける計算の基礎"
      ]
    },
    {
      "metadata": {
        "id": "egLv1R7M-jZ8",
        "colab_type": "text"
      },
      "cell_type": "markdown",
      "source": [
        "ここでは、基本的な最適化問題の作り方をQUBOマトリックスをメインに解説をします。\n"
      ]
    },
    {
      "metadata": {
        "id": "wyozSDvU-xpy",
        "colab_type": "text"
      },
      "cell_type": "markdown",
      "source": [
        "SDKであるWildqatを呼び出し、インスタンスを作成します。"
      ]
    },
    {
      "metadata": {
        "id": "j2QaAh-g9X0s",
        "colab_type": "code",
        "colab": {}
      },
      "cell_type": "code",
      "source": [
        "import wildqat as wq\n",
        "a = wq.opt()"
      ],
      "execution_count": 0,
      "outputs": []
    },
    {
      "metadata": {
        "id": "c7n1M9bA_KqW",
        "colab_type": "text"
      },
      "cell_type": "markdown",
      "source": [
        "次は問題を作成します。問題は通常QUBOという方法で記述されます。では、まずQUBOマトリックスを作ります。ここでは、例題を取り上げ、下記のような行列を考えて入力してみます。"
      ]
    },
    {
      "metadata": {
        "id": "HfVSNvIv9gGV",
        "colab_type": "code",
        "colab": {}
      },
      "cell_type": "code",
      "source": [
        "a.qubo = [[4,-4,-4],[0,4,-4],[0,0,4]]\n"
      ],
      "execution_count": 0,
      "outputs": []
    },
    {
      "metadata": {
        "id": "_yecEiB8CULm",
        "colab_type": "text"
      },
      "cell_type": "markdown",
      "source": [
        "これを使って計算します。今回はSA（シミュレーテッドアニーリング）アルゴリズムを使ってみますと、"
      ]
    },
    {
      "metadata": {
        "id": "Qlq6q_LLCRpc",
        "colab_type": "code",
        "colab": {
          "base_uri": "https://localhost:8080/",
          "height": 51
        },
        "outputId": "73f1dbe1-18ca-4540-9689-befda5a533d8"
      },
      "cell_type": "code",
      "source": [
        "a.sa()"
      ],
      "execution_count": 16,
      "outputs": [
        {
          "output_type": "stream",
          "text": [
            "1.412949800491333\n"
          ],
          "name": "stdout"
        },
        {
          "output_type": "execute_result",
          "data": {
            "text/plain": [
              "array([1, 1, 1])"
            ]
          },
          "metadata": {
            "tags": []
          },
          "execution_count": 16
        }
      ]
    },
    {
      "metadata": {
        "id": "53g1MTyMCdC4",
        "colab_type": "text"
      },
      "cell_type": "markdown",
      "source": [
        "このように、問題が解けました。上の数字は参考の実行時間です。答えはすべて1となりました。これで、問題は解き終わり、解がとりだせました。解は常に+1か0を選びます。今回使用されたQUBOは自動的にイジングマトリックスというものに内部で変換されていますが、一応中身を確認することはできます。"
      ]
    },
    {
      "metadata": {
        "id": "8-zv7jhnVW0b",
        "colab_type": "code",
        "colab": {
          "base_uri": "https://localhost:8080/",
          "height": 34
        },
        "outputId": "a86ff6a9-a203-4aca-8f82-7520d6943e28"
      },
      "cell_type": "code",
      "source": [
        "print(a.J)"
      ],
      "execution_count": 17,
      "outputs": [
        {
          "output_type": "stream",
          "text": [
            "[[0, -1, -1], [0, 0, -1], [0, 0, 0]]\n"
          ],
          "name": "stdout"
        }
      ]
    }
  ]
}