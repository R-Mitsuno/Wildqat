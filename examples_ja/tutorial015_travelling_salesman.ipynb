{
  "nbformat": 4,
  "nbformat_minor": 0,
  "metadata": {
    "colab": {
      "name": "travelingsalesman.ipynb",
      "version": "0.3.2",
      "provenance": [],
      "collapsed_sections": [],
      "include_colab_link": true
    },
    "kernelspec": {
      "name": "python3",
      "display_name": "Python 3"
    }
  },
  "cells": [
    {
      "cell_type": "markdown",
      "metadata": {
        "id": "view-in-github",
        "colab_type": "text"
      },
      "source": [
        ""
      ]
    },
    {
      "metadata": {
        "id": "4NtqBoZoJLwN",
        "colab_type": "text"
      },
      "cell_type": "markdown",
      "source": [
        "# ����Z�[���X�}�������v�Z����\n",
        "\n",
        "����Z�[���X�}�����Ƃ́A�K���s�s�̏W���Ɠs�s�Ԃ̈ړ��R�X�g�i�����Ȃǁj���^����ꂽ�Ƃ��A���ׂĂ̓s�s���P�x���K�₵�A���ړ��R�X�g�i�����j���ŏ��̃��[�g�����߂�Ƃ����g�ݍ��킹�œK�����ł��B �����wildqat���g�p���ĉ����Ă݂܂��B\n",
        "<img src=\"https://user-images.githubusercontent.com/5043340/45661145-2f8a7a80-bb37-11e8-99d1-42368906cfff.png\" width=\"400\">\n",
        "\n",
        "wildqat���C���X�g�[������Ă��Ȃ��ꍇ�́A���ɕ����Ĉȉ��̂悤�ɃC���X�g�[�����Ă��������B"
      ]
    },
    {
      "metadata": {
        "id": "jBfMpncQis5n",
        "colab_type": "code",
        "colab": {}
      },
      "cell_type": "code",
      "source": [
        "!pip3 install wildqat"
      ],
      "execution_count": 0,
      "outputs": []
    },
    {
      "metadata": {
        "id": "NXl-dlP4jCQm",
        "colab_type": "text"
      },
      "cell_type": "markdown",
      "source": [
        "�K�v�ȃ��C�u������import���Awildqat�I�u�W�F�N�g���C���X�^���X�����܂��B"
      ]
    },
    {
      "metadata": {
        "id": "T99_Z9PpjEKW",
        "colab_type": "code",
        "colab": {}
      },
      "cell_type": "code",
      "source": [
        "import wildqat as wq\n",
        "import numpy as np\n",
        "a = wq.opt()"
      ],
      "execution_count": 0,
      "outputs": []
    },
    {
      "metadata": {
        "id": "0nYClegLiF7e",
        "colab_type": "text"
      },
      "cell_type": "markdown",
      "source": [
        "\n",
        "## ���\n",
        "\n",
        "�ȒP�̂��߂ɁA���ōl���Ă݂܂��B\n",
        "\n",
        "�}�̂悤�ȂS�s�sA�AB�AC�AD���P�x���K�₷�邱�Ƃ��l���܂��B�s�s�Ԃ͂��ׂĐڑ�����Ă��āA�������ݒ肳��Ă��܂��B�ڑ�����Ă��Ȃ��s�s�Ԃ�����ꍇ�������܂����A�ȒP�̂��ߑS�����Ƃ��܂��B\n",
        "\n",
        "<img src=\"https://user-images.githubusercontent.com/5043340/45661003-8ba0cf00-bb36-11e8-95fc-573e77ded327.png\" width=\"400\">\n"
      ]
    },
    {
      "metadata": {
        "id": "04Mqi_Rci7g2",
        "colab_type": "text"
      },
      "cell_type": "markdown",
      "source": [
        "## Qubo�}�g���N�X���쐬\n",
        "\n",
        "�����������߂�Qubo�}�g���N�X���쐬���܂��B\n",
        "����Z�[���X�}�������������߂̈�ʎ��͎��̂悤�ɂȂ�܂��B\n",
        "$H = \\sum_{v=1}^n\\left( 1-\\sum_{j=1}^N x_{v,j} \\right)^2 + \\sum_{j=1}^N\\left(1-\\sum_{v=1}^Nx_{v,j} \\right)^2 + B\\sum_{(u,v)\\in E}W_{u,v}\\sum_{j=1}^N x_{u,j} x_{v,j}$      �E�E�E�E�E(1)\n",
        "\n",
        "\n",
        "\n",
        "�ϐ� $x_{vj}$ ���A�s�s$v$��$j$�ԖڂɖK��邩�ǂ�����\���ϐ��Ƃ��A\n",
        "\n",
        "$x_{vj} =  1$ (�s�sv��j�ԖڂɖK���Ƃ�)�A$0$ (�s�sv��j�ԖڂɖK��Ȃ��Ƃ�)\n",
        "\n",
        "�Ƃ��܂��B���̂��߁AQubo�}�g���N�X�́A�s�s����N�Ƃ����${N}^2$�~${N}^2$�̃}�g���N�X�ƂȂ�܂��B��L�̂S�s�s�̗�ł́A�P�U�~�P�U�̃}�g���N�X�ł��BQubo�}�g���N�X�͂Q�����ł��̂ŁA$x_{vj}$��$q_i$�ɕϊ����čl���܂��B���Ȃ킿�A��L�̂S�s�s�̗�ł́A\n",
        "\n",
        "$x_{11}, x_{12}, x_{13}, x_{14}$ ��  $q_0, q_1, q_2, q_3$\n",
        "\n",
        "$x_{21}, x_{22}, x_{23}, x_{24}$ ��  $q_4, q_5, q_6, q_7$\n",
        "\n",
        "$x_{31}, x_{32}, x_{33}, x_{34}$ ��  $q_8, q_{9}, q_{10}, q_{11}$\n",
        "\n",
        "$x_{41}, x_{42}, x_{43}, x_{44}$ ��  $q_{12}, q_{13}, q_{14}, q_{15}$\n",
        "\n",
        "\n",
        "�Ƃ����������ł��B�i$x$�̓Y�����̂P�Ԗڂ́A1�FA�A2�FB�A3�FC�A4�FD�Ƃ��Ă��܂��B�j\n",
        "\n",
        "���̕ϐ��𗘗p���āA���ׂĂ̓s�s���P�x���K�ꂽ�Ƃ��̈ړ���������ԏ������Ȃ�悤�ȃR�X�g�֐����l���܂��B�R�X�g�֐��ɂ͂R�̍��ڂ��K�v�ł��B\n",
        "\n",
        "\n",
        "*   �e�s�s��K���̂͂P�񂸂ł���\n",
        "*   j�ԖڂɖK���s�s�͂P�����ł���i�������Ԃɕ����̓s�s��K�₵�Ă��邱�Ƃ͂ł��Ȃ����߁j\n",
        "*  �ړ��������ŏ�\n",
        "\n",
        "\n"
      ]
    },
    {
      "metadata": {
        "id": "iL1XZZPhMuhp",
        "colab_type": "text"
      },
      "cell_type": "markdown",
      "source": [
        "## �����P�F�e�s�s��K���̂͂P�񂸂ł���\n",
        "\n",
        "�܂��A�P�ڂ̐�������ɂ��čl���܂��B���}�́A�s�sA����D��1~4�̉��ԖڂɖK��邩�\�����}�ł��B\n",
        "<img src=\"https://user-images.githubusercontent.com/5043340/45663268-8a749f80-bb40-11e8-8c4a-8b2ad1dd3f35.png\" width=\"400\">\n",
        "\n",
        "�P�s�s��K���̂͂P�x�����ƍl����ƁA�Ԙg�ň͂񂾉��̊e�s�́A�P�������P�ɂȂ�܂��B\n",
        "���Ƃ��΁A$q_0+q_1+q_2+q_3 = 1$�ł��B��������ׂĂ̍s�ōl���A�ȉ��̂悤�ɂ����\n",
        "\n",
        "${(1-q_0-q_1-q_2-q_3)^2+(1-q_4-q_5-q_6-q_7)^2+(1-q_8-q_9-q_{10}-q_{11})^2+(1-q_{12}-q_{13}-q_{14}-q_{15})^2\n",
        "}$\n",
        "\n",
        "�㎮�̂悤�ɂ���΁A�e�s�s����x�����K���ꍇ�ɍŏ��ƂȂ鐧������ɂȂ�܂��B\n",
        "\n",
        "\n",
        "\n"
      ]
    },
    {
      "metadata": {
        "id": "Wiulor0gNBQ6",
        "colab_type": "text"
      },
      "cell_type": "markdown",
      "source": [
        "## �����Q�F j�ԖڂɖK���s�s�͂P�����ł���\n",
        "\n",
        "�Q�ڂ̐�������ɂ��čl���܂��B\n",
        "<img src=\"https://user-images.githubusercontent.com/5043340/45666641-1bec0d80-bb51-11e8-87f7-0d1bb522f2e8.png\" width=\"400\">\n",
        "\n",
        "���x�́A�P�x�ɖK���s�s�͂P�����ƍl����ƁA�Ԙg�ň͂񂾏c�̊e�񂪁A�P�����P�ɂȂ�܂��B��������ƁA\n",
        "\n",
        "${(1-q_0-q_4-q_8-q_{12})^2+(1-q_1-q_5-q_9-q_{13})^2+(1-q_2-q_6-q_{10}-q_{14})^2+(1-q_{3}-q_{7}-q_{11}-q_{15})^2\n",
        "}$\n",
        "\n",
        "�㎮�̂悤�ɂ���΁A��x�ɖK���s�s���P�����̏ꍇ�ɍŏ��ƂȂ鐧������ɂȂ�܂��B\n",
        "\n",
        "\n",
        "\n",
        "�����P�Ə����Q�𑫂����킹�Đ�������ƁA�ȉ��̂悤�ɂȂ�܂��B\n",
        "\n",
        "${2q_0q_1 + 2q_0q_{12} + 2q_0q_2 + 2q_0q_3 + 2q_0q_4 + 2q_0q_8 - 2q_0}$ \n\n",
        "${+ 2q_1q_{13} + 2q_1q_2 + 2q_1q_3 + 2q_1q_5 + 2q_1q_9 - 2q_1}$ \n\n",
        "${ + 2q_{10}q_{11} + 2q_{10}q_{14} + 2q_{10}q_2 + 2q_{10}q_6 + 2q_{10}q_8 + 2q_{10}q_9 - 2q_{10} }$ \n\n",
        "${+ 2q_{11}q_{15} + 2q_{11}q_3 + 2q_{11}q_7 + 2q_{11}q_8 + 2q_{11}q_9 - 2q_{11}}$ \n\n",
        "${+ 2q_{12}q_{13} + 2q_{12}q_{14} + 2q_{12}q_{15} + 2q_{12}q_4 + 2q_{12}q_8 - 2q_{12} }$ \n\n",
        "${+ 2q_{13}q_{14}+ 2q_{13}q_{15} + 2q_{13}q_5 + 2q_{13}q_9 - 2q_{13} }$ \n\n",
        "${+ 2q_{14}q_{15} + 2q_{14}q_2 + 2q_{14}q_6 - 2q_{14}}$ \n\n",
        "${+ 2q_{15}q_3 + 2q_{15}q_7 - 2q_{15}}$ \n\n",
        "${+ 2q_2q_3 + 2q_2q_6 - 2q_2 + 2q_3q_7 - 2q_3 }$ \n\n",
        "${+ 2q_4q_5 + 2q_4q_6 + 2q_4q_7 + 2q_4q_8 - 2q_4 + 2q_5q_6 + 2q_5q_7 + 2q_5q_9 - 2q_5 }$ \n\n",
        "${ +2q_6q_7 - 2q_6 - 2q_7 + 2q_8q_9 - 2q_8 - 2q_9 + 8}$ \n\n",
        "\n",
        "\n",
        "\n",
        "\n",
        "\n",
        "�����Qubo�}�g���N�X�ŕ\���ƁA�ȉ��̂悤�ɂȂ�܂��B\n",
        "\n",
        "\n",
        "<img src=\"https://user-images.githubusercontent.com/5043340/45666980-42f70f00-bb52-11e8-93a7-245e9d0f5609.png\" width=\"400\">\n"
      ]
    },
    {
      "metadata": {
        "id": "-GV3mmIBOCUy",
        "colab_type": "text"
      },
      "cell_type": "markdown",
      "source": [
        "## �����R�F �ړ��������ŏ�\n",
        "\n",
        "����s�s���玟�̓s�s�Ɉړ�����Ƃ��̋����̘a���R�X�g�֐��Ƃ���΁A�R�X�g�֐����ŏ��̂Ƃ��A�ړ��������ŒZ�ƂȂ郋�[�g�����߂��܂��B�Ⴆ�΁Aq0�ix11�j��q5�ix22�j���P�̂Ƃ��A����͓s�sA���P�ԖڂɖK��A�s�sB�ɂQ�ԖڂɖK���Ƃ������ƂȂ̂ŁA�s�sA����s�sB�̈ړ��ɑΉ����Ă��܂��B�����ŁAQubo�}�g���N�X��q0q5�̃R�X�g�́u2�v�ƂȂ�܂��B���l�ɂ��ׂĂ̓s�s�Ԃ̋������l����ƁA���}�̂悤�ɂȂ�܂��B\n",
        "\n",
        "<img src=\"https://user-images.githubusercontent.com/5043340/45667633-f3661280-bb54-11e8-9fbe-5dba63749b1d.png\" width=\"400\">\n"
      ]
    },
    {
      "metadata": {
        "id": "Gt5Mm5saTbay",
        "colab_type": "text"
      },
      "cell_type": "markdown",
      "source": [
        "## �����𑫂����킹��\n",
        "\n",
        "�����P�E�Q�A�����R�𑫂����킹��Qubo�}�g���N�X�ɂ��܂��B\n",
        "\n",
        "��������Ƌ����̃R�X�g�֐��͓����������ŎQ�����ł��܂���B��������ۂɂ͂ǂ��炩�ɌW���������Ă��̌W���𒲐�����K�v������܂��B����́A�����̃R�X�g�֐�����B=0.5�Ƃ����W���������đ������킹�Ă݂܂��B\n",
        "\n",
        "\n",
        "## �v���O�����������Čv�Z���Ă݂�\n",
        "\n",
        "\n",
        "�����python�v���O�����ŏ����A�V�~�����[�^�����s���Č��ʂ𓾂܂��B\n"
      ]
    },
    {
      "metadata": {
        "id": "OcV06PgvIjAB",
        "colab_type": "code",
        "colab": {}
      },
      "cell_type": "code",
      "source": [
        "a.qubo = [\n",
        "  [-2,2,2,2,2,0,0,0,2,0,0,0,2,0,0,0],\n",
        "  [0,-2,2,2,0,2,0,0,0,2,0,0,0,2,0,0],\n",
        "  [0,0,-2,2,0,0,2,0,0,0,2,0,0,0,2,0],\n",
        "  [0,0,0,-2,0,0,0,2,0,0,0,2,0,0,0,2],\n",
        "  [0,0,0,0,-2,2,2,2,2,0,0,0,2,0,0,0],\n",
        "  [0,0,0,0,0,-2,2,2,0,2,0,0,0,2,0,0],\n",
        "  [0,0,0,0,0,0,-2,2,0,0,2,0,0,0,2,0],\n",
        "  [0,0,0,0,0,0,0,-2,0,0,0,2,0,0,0,2],\n",
        "  [0,0,0,0,0,0,0,0,-2,2,2,2,2,0,0,0],\n",
        "  [0,0,0,0,0,0,0,0,0,-2,2,2,0,2,0,0],\n",
        "  [0,0,0,0,0,0,0,0,0,0,-2,2,0,0,2,0],\n",
        "  [0,0,0,0,0,0,0,0,0,0,0,-2,0,0,0,2],\n",
        "  [0,0,0,0,0,0,0,0,0,0,0,0,-2,2,2,2],\n",
        "  [0,0,0,0,0,0,0,0,0,0,0,0,0,-2,2,2],\n",
        "  [0,0,0,0,0,0,0,0,0,0,0,0,0,0,-2,2],\n",
        "  [0,0,0,0,0,0,0,0,0,0,0,0,0,0,0,-2],\n",
        "]\n",
        "answer = a.sa()"
      ],
      "execution_count": 0,
      "outputs": []
    },
    {
      "metadata": {
        "id": "OxJ2NXbFVJgi",
        "colab_type": "text"
      },
      "cell_type": "markdown",
      "source": [
        "����ꂽ���ʂ�\�����Ă݂܂��B"
      ]
    },
    {
      "metadata": {
        "id": "r9yLIMIqUjDT",
        "colab_type": "code",
        "colab": {}
      },
      "cell_type": "code",
      "source": [
        "print(answer)"
      ],
      "execution_count": 0,
      "outputs": []
    },
    {
      "metadata": {
        "id": "vHjXsQvdVM36",
        "colab_type": "text"
      },
      "cell_type": "markdown",
      "source": [
        "���ʂ�\n",
        "\n",
        "[0, 0, 1, 0, 0, 0, 0, 1, 0, 1, 0, 0, 1, 0, 0, 0]\n",
        "\n",
        "�ƂȂ�܂����B�S���ƂɁA�s�sA�AB�AC�AD��K��鏇�Ԃ̂Ƃ����1���ݒ肳��Ă��܂��B���̌��ʂɂ��΁A�s�sD��C��A��B�̏��ɖK��邱�ƂɂȂ�܂��B�v�Z����ƈړ������͂T�ł��̂ŁA�ŒZ�̃��[�g���v�Z����Ă��邱�Ƃ��킩��܂��B"
      ]
    }
  ]
}
