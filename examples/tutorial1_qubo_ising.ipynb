{
  "nbformat": 4,
  "nbformat_minor": 0,
  "metadata": {
    "colab": {
      "name": "tutorial1_qubo_ising.ipynb",
      "version": "0.3.2",
      "provenance": []
    },
    "kernelspec": {
      "name": "python3",
      "display_name": "Python 3"
    }
  },
  "cells": [
    {
      "metadata": {
        "id": "S0D6seG9-ZGj",
        "colab_type": "text"
      },
      "cell_type": "markdown",
      "source": [
        "# イジングモデルにおける計算の基礎"
      ]
    },
    {
      "metadata": {
        "id": "egLv1R7M-jZ8",
        "colab_type": "text"
      },
      "cell_type": "markdown",
      "source": [
        "ここでは、基本的なイジングモデルにおける問題の作り方をQUBOマトリックスとイジングマトリックスの両方を取り上げて解説をします。\n"
      ]
    },
    {
      "metadata": {
        "id": "wyozSDvU-xpy",
        "colab_type": "text"
      },
      "cell_type": "markdown",
      "source": [
        "まずは準備としてイジングモデルのSDKであるWildqatを呼び出し、インスタンスを作成します。"
      ]
    },
    {
      "metadata": {
        "id": "j2QaAh-g9X0s",
        "colab_type": "code",
        "colab": {}
      },
      "cell_type": "code",
      "source": [
        "import wildqat as wq\n",
        "a = wq.anneal()"
      ],
      "execution_count": 0,
      "outputs": []
    },
    {
      "metadata": {
        "id": "c7n1M9bA_KqW",
        "colab_type": "text"
      },
      "cell_type": "markdown",
      "source": [
        "次は問題を作成します。問題は通常QUBOもしくはイジングという方法で記述されます。QUBOは量子ビットを0と1で考え、イジングは量子ビットを-1と+1で考えます。最終的にはイジングマシンはQUBOからイジングへと変換を行い、-1と+1の状態で計算を行います。では、まずQUBOマトリックスを作ります。ここでは、例題を取り上げ、下記のような行列を考えて入力してみます。"
      ]
    },
    {
      "metadata": {
        "id": "HfVSNvIv9gGV",
        "colab_type": "code",
        "colab": {}
      },
      "cell_type": "code",
      "source": [
        "a.qubo = [[4,-4,-4],[0,4,-4],[0,0,4]]\n"
      ],
      "execution_count": 0,
      "outputs": []
    },
    {
      "metadata": {
        "id": "_yecEiB8CULm",
        "colab_type": "text"
      },
      "cell_type": "markdown",
      "source": [
        "これを使ってイジングモデルを計算します。今回はSA（シミュレーテッドアニーリング）アルゴリズムを使ってみますと、"
      ]
    },
    {
      "metadata": {
        "id": "Qlq6q_LLCRpc",
        "colab_type": "code",
        "colab": {
          "base_uri": "https://localhost:8080/",
          "height": 51
        },
        "outputId": "73f1dbe1-18ca-4540-9689-befda5a533d8"
      },
      "cell_type": "code",
      "source": [
        "a.sa()"
      ],
      "execution_count": 16,
      "outputs": [
        {
          "output_type": "stream",
          "text": [
            "1.412949800491333\n"
          ],
          "name": "stdout"
        },
        {
          "output_type": "execute_result",
          "data": {
            "text/plain": [
              "array([1, 1, 1])"
            ]
          },
          "metadata": {
            "tags": []
          },
          "execution_count": 16
        }
      ]
    },
    {
      "metadata": {
        "id": "53g1MTyMCdC4",
        "colab_type": "text"
      },
      "cell_type": "markdown",
      "source": [
        "このように、問題が解けました。上の数字は参考の実行時間です。答えはすべて-1となりました。これで、問題は解き終わり、解がとりだせました。解は常に+1か-1を選びます。今回使用されたQUBOは自動的にイジングマトリックスというものに内部で変換されていますが、一応中身を確認することはできます。"
      ]
    },
    {
      "metadata": {
        "id": "8-zv7jhnVW0b",
        "colab_type": "code",
        "colab": {
          "base_uri": "https://localhost:8080/",
          "height": 34
        },
        "outputId": "a86ff6a9-a203-4aca-8f82-7520d6943e28"
      },
      "cell_type": "code",
      "source": [
        "print(a.J)"
      ],
      "execution_count": 17,
      "outputs": [
        {
          "output_type": "stream",
          "text": [
            "[[0, -1, -1], [0, 0, -1], [0, 0, 0]]\n"
          ],
          "name": "stdout"
        }
      ]
    }
  ]
}