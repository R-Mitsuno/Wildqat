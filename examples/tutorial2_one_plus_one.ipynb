{
  "nbformat": 4,
  "nbformat_minor": 0,
  "metadata": {
    "colab": {
      "name": "tutorial2_one_plus_one.ipynb",
      "version": "0.3.2",
      "provenance": []
    },
    "kernelspec": {
      "name": "python3",
      "display_name": "Python 3"
    }
  },
  "cells": [
    {
      "metadata": {
        "id": "UPxrM9OI99wy",
        "colab_type": "text"
      },
      "cell_type": "markdown",
      "source": [
        "# QUBOで足し算を行う"
      ]
    },
    {
      "metadata": {
        "id": "gcQ_stSG-IBj",
        "colab_type": "text"
      },
      "cell_type": "markdown",
      "source": [
        "ここでは、QUBOマトリックスを使った足し算の計算を紹介します。簡単な足し算を通じてQUBOの使い方を学びたいと思います。"
      ]
    },
    {
      "metadata": {
        "id": "0n4HiQTU-hb3",
        "colab_type": "text"
      },
      "cell_type": "markdown",
      "source": [
        "まずは準備としてイジングモデルのSDKであるWildqatを呼び出し、インスタンスを作成します。"
      ]
    },
    {
      "metadata": {
        "id": "hI9h42FC-EBc",
        "colab_type": "code",
        "colab": {}
      },
      "cell_type": "code",
      "source": [
        "import wildqat as wq\n",
        "a = wq.anneal()"
      ],
      "execution_count": 0,
      "outputs": []
    },
    {
      "metadata": {
        "id": "tSmFA1oU-qU9",
        "colab_type": "text"
      },
      "cell_type": "markdown",
      "source": [
        "早速問題を解いていきます。今回解きたい問題は、  \n",
        "\n",
        "1+ 1 = x\n",
        "\n",
        "となるようなxを求めます。QUBOにおいて足し算は上記右辺から左辺を引いてその最小値を求めることに相当しますので、\n",
        "\n",
        "H = (x-2)^2\n",
        "\n",
        "というハミルトニアンができます。こちらを展開すると、\n",
        "\n",
        "H = x^2 -4x + 4\n",
        "\n",
        "という式が得られます。これを計算します。一方、xは量子ビットを使って、\n",
        "\n",
        "x = q0 + 2q1\n",
        "\n",
        "という二進数表記ができますので、さらにこれを上記のハミルトニアンに代入すると、\n",
        "\n",
        "H = q0^2 + 4*q0*q1 - 4*q0 + 4*q1^2 - 8*q1 + 4\n",
        "\n",
        "と展開されます。ここで、QUBOはバイナリ値{0,1}を取りますので、二乗の項はすべて指数がとれます。\n",
        "\n",
        "q0^2 = q0  \n",
        "q1^2 = q1\n",
        "\n",
        "より、\n",
        "\n",
        "H = -3q0 + 4q0q1 - 4q1 +4\n",
        "\n",
        "となります。これを行列表記すると、下記のようになります。"
      ]
    },
    {
      "metadata": {
        "id": "eJrggDI8-nvv",
        "colab_type": "code",
        "colab": {}
      },
      "cell_type": "code",
      "source": [
        "a.qubo = [[-3,4],[0,-4]]"
      ],
      "execution_count": 0,
      "outputs": []
    },
    {
      "metadata": {
        "id": "aGiTXBEKCl-v",
        "colab_type": "code",
        "colab": {
          "base_uri": "https://localhost:8080/",
          "height": 51
        },
        "outputId": "ab9c1ac8-374b-424b-b5e5-ba9029699d85"
      },
      "cell_type": "code",
      "source": [
        "a.sa()"
      ],
      "execution_count": 10,
      "outputs": [
        {
          "output_type": "stream",
          "text": [
            "1.3393831253051758\n"
          ],
          "name": "stdout"
        },
        {
          "output_type": "execute_result",
          "data": {
            "text/plain": [
              "array([-1,  1])"
            ]
          },
          "metadata": {
            "tags": []
          },
          "execution_count": 10
        }
      ]
    },
    {
      "metadata": {
        "id": "56xHZzzdWIAT",
        "colab_type": "text"
      },
      "cell_type": "markdown",
      "source": [
        "こたえはq0が-1,q1が+1となりますが、これはQUBOではそれぞれ0と1に読み替えられます。ですので、1+1の答えは、\n",
        "\n",
        "1 + 1 = 0 + 2*1 = 2\n",
        "\n",
        "となります。"
      ]
    }
  ]
}