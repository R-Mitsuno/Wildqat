{
  "nbformat": 4,
  "nbformat_minor": 0,
  "metadata": {
    "colab": {
      "name": "tutorial2_one_plus_one.ipynb",
      "version": "0.3.2",
      "provenance": []
    },
    "kernelspec": {
      "name": "python3",
      "display_name": "Python 3"
    }
  },
  "cells": [
    {
      "metadata": {
        "id": "jal7xDYFe3Nq",
        "colab_type": "text"
      },
      "cell_type": "markdown",
      "source": [
        "# QUBOで足し算を行う"
      ]
    },
    {
      "metadata": {
        "id": "r7j1DqYse7cB",
        "colab_type": "text"
      },
      "cell_type": "markdown",
      "source": [
        "まずは準備として最適化問題のSDKであるWildqatを呼び出し、インスタンスを作成します。"
      ]
    },
    {
      "metadata": {
        "id": "fMKF-eQyerzg",
        "colab_type": "code",
        "colab": {}
      },
      "cell_type": "code",
      "source": [
        "import wildqat as wq\n",
        "a = wq.opt()\n"
      ],
      "execution_count": 0,
      "outputs": []
    },
    {
      "metadata": {
        "id": "-x7dmTzre7AN",
        "colab_type": "text"
      },
      "cell_type": "markdown",
      "source": [
        "早速問題を解いていきます。今回解きたい問題は、  \n",
        "\n",
        "1+ 1 = x\n",
        "\n",
        "となるようなxを求めます。QUBOにおいて足し算は上記右辺から左辺を引いてその最小値を求めることに相当しますので、\n",
        "\n",
        "E = (x-2)^2\n",
        "\n",
        "というコスト関数ができます。こちらを展開すると、\n",
        "\n",
        "E = x^2 -4x + 4\n",
        "\n",
        "という式が得られます。これを計算します。一方、xは量子ビットを使って、\n",
        "\n",
        "x = q0 + 2q1\n",
        "\n",
        "という二進数表記ができますので、さらにこれを上記のコスト関数に代入すると、\n",
        "\n",
        "H = q0^2 + 4*q0*q1 - 4*q0 + 4*q1^2 - 8*q1 + 4\n",
        "\n",
        "と展開されます。ここで、QUBOはバイナリ値{0,1}を取りますので、二乗の項はすべて指数がとれます。\n",
        "\n",
        "q0^2 = q0  \n",
        "q1^2 = q1\n",
        "\n",
        "より、\n",
        "\n",
        "H = -3q0 + 4q0q1 - 4q1 +4\n",
        "\n",
        "となります。これを行列表記すると、下記のようになります。"
      ]
    },
    {
      "metadata": {
        "id": "wImQpd7_eum_",
        "colab_type": "code",
        "colab": {}
      },
      "cell_type": "code",
      "source": [
        "a.qubo = [[-3,4],[0,-4]]"
      ],
      "execution_count": 0,
      "outputs": []
    },
    {
      "metadata": {
        "id": "BRLbSqcZfCzz",
        "colab_type": "text"
      },
      "cell_type": "markdown",
      "source": [
        "そして、早速これを計算実行すると、"
      ]
    },
    {
      "metadata": {
        "id": "tYYg8-xeeylP",
        "colab_type": "code",
        "colab": {
          "base_uri": "https://localhost:8080/",
          "height": 51
        },
        "outputId": "dba14862-f955-4ab8-ab40-6114f0bafe95"
      },
      "cell_type": "code",
      "source": [
        "a.sa()"
      ],
      "execution_count": 4,
      "outputs": [
        {
          "output_type": "stream",
          "text": [
            "1.4851853847503662\n"
          ],
          "name": "stdout"
        },
        {
          "output_type": "execute_result",
          "data": {
            "text/plain": [
              "[0, 1]"
            ]
          },
          "metadata": {
            "tags": []
          },
          "execution_count": 4
        }
      ]
    },
    {
      "metadata": {
        "id": "HFw1v_jMfGeR",
        "colab_type": "text"
      },
      "cell_type": "markdown",
      "source": [
        "これはQUBOでq0=1,q1=1となりましたので、1+1の答えは、\n",
        "\n",
        "1 + 1 = 0 + 2*1 = 2\n",
        "\n",
        "となります。"
      ]
    }
  ]
}